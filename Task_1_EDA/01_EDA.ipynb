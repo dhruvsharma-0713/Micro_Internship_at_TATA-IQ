{
 "cells": [
  {
   "cell_type": "code",
   "execution_count": 1,
   "id": "85255122-f09c-432c-8790-859a3461d92e",
   "metadata": {},
   "outputs": [],
   "source": [
    "import pandas as pd"
   ]
  },
  {
   "cell_type": "code",
   "execution_count": 2,
   "id": "040452bb-b23c-4b19-b7b5-0226095183fa",
   "metadata": {},
   "outputs": [],
   "source": [
    "df = pd.read_excel('Delinquency_Dataset.xlsx')"
   ]
  },
  {
   "cell_type": "code",
   "execution_count": 3,
   "id": "6a436379-f144-47c8-bcac-a38c899a9ae3",
   "metadata": {},
   "outputs": [
    {
     "data": {
      "text/html": [
       "<div>\n",
       "<style scoped>\n",
       "    .dataframe tbody tr th:only-of-type {\n",
       "        vertical-align: middle;\n",
       "    }\n",
       "\n",
       "    .dataframe tbody tr th {\n",
       "        vertical-align: top;\n",
       "    }\n",
       "\n",
       "    .dataframe thead th {\n",
       "        text-align: right;\n",
       "    }\n",
       "</style>\n",
       "<table border=\"1\" class=\"dataframe\">\n",
       "  <thead>\n",
       "    <tr style=\"text-align: right;\">\n",
       "      <th></th>\n",
       "      <th>Customer_ID</th>\n",
       "      <th>Age</th>\n",
       "      <th>Income</th>\n",
       "      <th>Credit_Score</th>\n",
       "      <th>Credit_Utilization</th>\n",
       "      <th>Missed_Payments</th>\n",
       "      <th>Delinquent_Account</th>\n",
       "      <th>Loan_Balance</th>\n",
       "      <th>Debt_to_Income_Ratio</th>\n",
       "      <th>Employment_Status</th>\n",
       "      <th>Account_Tenure</th>\n",
       "      <th>Credit_Card_Type</th>\n",
       "      <th>Location</th>\n",
       "      <th>Month_1</th>\n",
       "      <th>Month_2</th>\n",
       "      <th>Month_3</th>\n",
       "      <th>Month_4</th>\n",
       "      <th>Month_5</th>\n",
       "      <th>Month_6</th>\n",
       "    </tr>\n",
       "  </thead>\n",
       "  <tbody>\n",
       "    <tr>\n",
       "      <th>0</th>\n",
       "      <td>CUST0001</td>\n",
       "      <td>56</td>\n",
       "      <td>165580.0</td>\n",
       "      <td>398.0</td>\n",
       "      <td>0.390502</td>\n",
       "      <td>3</td>\n",
       "      <td>0</td>\n",
       "      <td>16310.0</td>\n",
       "      <td>0.317396</td>\n",
       "      <td>EMP</td>\n",
       "      <td>18</td>\n",
       "      <td>Student</td>\n",
       "      <td>Los Angeles</td>\n",
       "      <td>Late</td>\n",
       "      <td>Late</td>\n",
       "      <td>Missed</td>\n",
       "      <td>Late</td>\n",
       "      <td>Missed</td>\n",
       "      <td>Late</td>\n",
       "    </tr>\n",
       "    <tr>\n",
       "      <th>1</th>\n",
       "      <td>CUST0002</td>\n",
       "      <td>69</td>\n",
       "      <td>100999.0</td>\n",
       "      <td>493.0</td>\n",
       "      <td>0.312444</td>\n",
       "      <td>6</td>\n",
       "      <td>1</td>\n",
       "      <td>17401.0</td>\n",
       "      <td>0.196093</td>\n",
       "      <td>Self-employed</td>\n",
       "      <td>0</td>\n",
       "      <td>Standard</td>\n",
       "      <td>Phoenix</td>\n",
       "      <td>Missed</td>\n",
       "      <td>Missed</td>\n",
       "      <td>Late</td>\n",
       "      <td>Missed</td>\n",
       "      <td>On-time</td>\n",
       "      <td>On-time</td>\n",
       "    </tr>\n",
       "    <tr>\n",
       "      <th>2</th>\n",
       "      <td>CUST0003</td>\n",
       "      <td>46</td>\n",
       "      <td>188416.0</td>\n",
       "      <td>500.0</td>\n",
       "      <td>0.359930</td>\n",
       "      <td>0</td>\n",
       "      <td>0</td>\n",
       "      <td>13761.0</td>\n",
       "      <td>0.301655</td>\n",
       "      <td>Self-employed</td>\n",
       "      <td>1</td>\n",
       "      <td>Platinum</td>\n",
       "      <td>Chicago</td>\n",
       "      <td>Missed</td>\n",
       "      <td>Late</td>\n",
       "      <td>Late</td>\n",
       "      <td>On-time</td>\n",
       "      <td>Missed</td>\n",
       "      <td>Late</td>\n",
       "    </tr>\n",
       "    <tr>\n",
       "      <th>3</th>\n",
       "      <td>CUST0004</td>\n",
       "      <td>32</td>\n",
       "      <td>101672.0</td>\n",
       "      <td>413.0</td>\n",
       "      <td>0.371400</td>\n",
       "      <td>3</td>\n",
       "      <td>0</td>\n",
       "      <td>88778.0</td>\n",
       "      <td>0.264794</td>\n",
       "      <td>Unemployed</td>\n",
       "      <td>15</td>\n",
       "      <td>Platinum</td>\n",
       "      <td>Phoenix</td>\n",
       "      <td>Late</td>\n",
       "      <td>Missed</td>\n",
       "      <td>Late</td>\n",
       "      <td>Missed</td>\n",
       "      <td>Late</td>\n",
       "      <td>Late</td>\n",
       "    </tr>\n",
       "    <tr>\n",
       "      <th>4</th>\n",
       "      <td>CUST0005</td>\n",
       "      <td>60</td>\n",
       "      <td>38524.0</td>\n",
       "      <td>487.0</td>\n",
       "      <td>0.234716</td>\n",
       "      <td>2</td>\n",
       "      <td>0</td>\n",
       "      <td>13316.0</td>\n",
       "      <td>0.510583</td>\n",
       "      <td>Self-employed</td>\n",
       "      <td>11</td>\n",
       "      <td>Standard</td>\n",
       "      <td>Phoenix</td>\n",
       "      <td>Missed</td>\n",
       "      <td>On-time</td>\n",
       "      <td>Missed</td>\n",
       "      <td>Late</td>\n",
       "      <td>Late</td>\n",
       "      <td>Late</td>\n",
       "    </tr>\n",
       "  </tbody>\n",
       "</table>\n",
       "</div>"
      ],
      "text/plain": [
       "  Customer_ID  Age    Income  Credit_Score  Credit_Utilization  \\\n",
       "0    CUST0001   56  165580.0         398.0            0.390502   \n",
       "1    CUST0002   69  100999.0         493.0            0.312444   \n",
       "2    CUST0003   46  188416.0         500.0            0.359930   \n",
       "3    CUST0004   32  101672.0         413.0            0.371400   \n",
       "4    CUST0005   60   38524.0         487.0            0.234716   \n",
       "\n",
       "   Missed_Payments  Delinquent_Account  Loan_Balance  Debt_to_Income_Ratio  \\\n",
       "0                3                   0       16310.0              0.317396   \n",
       "1                6                   1       17401.0              0.196093   \n",
       "2                0                   0       13761.0              0.301655   \n",
       "3                3                   0       88778.0              0.264794   \n",
       "4                2                   0       13316.0              0.510583   \n",
       "\n",
       "  Employment_Status  Account_Tenure Credit_Card_Type     Location Month_1  \\\n",
       "0               EMP              18          Student  Los Angeles    Late   \n",
       "1     Self-employed               0         Standard      Phoenix  Missed   \n",
       "2     Self-employed               1         Platinum      Chicago  Missed   \n",
       "3        Unemployed              15         Platinum      Phoenix    Late   \n",
       "4     Self-employed              11         Standard      Phoenix  Missed   \n",
       "\n",
       "   Month_2 Month_3  Month_4  Month_5  Month_6  \n",
       "0     Late  Missed     Late   Missed     Late  \n",
       "1   Missed    Late   Missed  On-time  On-time  \n",
       "2     Late    Late  On-time   Missed     Late  \n",
       "3   Missed    Late   Missed     Late     Late  \n",
       "4  On-time  Missed     Late     Late     Late  "
      ]
     },
     "execution_count": 3,
     "metadata": {},
     "output_type": "execute_result"
    }
   ],
   "source": [
    "df.head()"
   ]
  },
  {
   "cell_type": "code",
   "execution_count": 4,
   "id": "afa6199a-73f5-46a7-bd17-5491da7e20b4",
   "metadata": {
    "scrolled": true
   },
   "outputs": [
    {
     "name": "stdout",
     "output_type": "stream",
     "text": [
      "<class 'pandas.core.frame.DataFrame'>\n",
      "RangeIndex: 500 entries, 0 to 499\n",
      "Data columns (total 19 columns):\n",
      " #   Column                Non-Null Count  Dtype  \n",
      "---  ------                --------------  -----  \n",
      " 0   Customer_ID           500 non-null    object \n",
      " 1   Age                   500 non-null    int64  \n",
      " 2   Income                461 non-null    float64\n",
      " 3   Credit_Score          498 non-null    float64\n",
      " 4   Credit_Utilization    500 non-null    float64\n",
      " 5   Missed_Payments       500 non-null    int64  \n",
      " 6   Delinquent_Account    500 non-null    int64  \n",
      " 7   Loan_Balance          471 non-null    float64\n",
      " 8   Debt_to_Income_Ratio  500 non-null    float64\n",
      " 9   Employment_Status     500 non-null    object \n",
      " 10  Account_Tenure        500 non-null    int64  \n",
      " 11  Credit_Card_Type      500 non-null    object \n",
      " 12  Location              500 non-null    object \n",
      " 13  Month_1               500 non-null    object \n",
      " 14  Month_2               500 non-null    object \n",
      " 15  Month_3               500 non-null    object \n",
      " 16  Month_4               500 non-null    object \n",
      " 17  Month_5               500 non-null    object \n",
      " 18  Month_6               500 non-null    object \n",
      "dtypes: float64(5), int64(4), object(10)\n",
      "memory usage: 74.3+ KB\n"
     ]
    }
   ],
   "source": [
    "df.info()"
   ]
  },
  {
   "cell_type": "code",
   "execution_count": 5,
   "id": "b2b496e7-fa3a-48d5-afb0-7208f378e9bc",
   "metadata": {
    "scrolled": true
   },
   "outputs": [
    {
     "data": {
      "text/html": [
       "<div>\n",
       "<style scoped>\n",
       "    .dataframe tbody tr th:only-of-type {\n",
       "        vertical-align: middle;\n",
       "    }\n",
       "\n",
       "    .dataframe tbody tr th {\n",
       "        vertical-align: top;\n",
       "    }\n",
       "\n",
       "    .dataframe thead th {\n",
       "        text-align: right;\n",
       "    }\n",
       "</style>\n",
       "<table border=\"1\" class=\"dataframe\">\n",
       "  <thead>\n",
       "    <tr style=\"text-align: right;\">\n",
       "      <th></th>\n",
       "      <th>Age</th>\n",
       "      <th>Income</th>\n",
       "      <th>Credit_Score</th>\n",
       "      <th>Credit_Utilization</th>\n",
       "      <th>Missed_Payments</th>\n",
       "      <th>Delinquent_Account</th>\n",
       "      <th>Loan_Balance</th>\n",
       "      <th>Debt_to_Income_Ratio</th>\n",
       "      <th>Account_Tenure</th>\n",
       "    </tr>\n",
       "  </thead>\n",
       "  <tbody>\n",
       "    <tr>\n",
       "      <th>count</th>\n",
       "      <td>500.000000</td>\n",
       "      <td>461.000000</td>\n",
       "      <td>498.000000</td>\n",
       "      <td>500.000000</td>\n",
       "      <td>500.000000</td>\n",
       "      <td>500.000000</td>\n",
       "      <td>471.000000</td>\n",
       "      <td>500.000000</td>\n",
       "      <td>500.000000</td>\n",
       "    </tr>\n",
       "    <tr>\n",
       "      <th>mean</th>\n",
       "      <td>46.266000</td>\n",
       "      <td>108379.893709</td>\n",
       "      <td>577.716867</td>\n",
       "      <td>0.491446</td>\n",
       "      <td>2.968000</td>\n",
       "      <td>0.160000</td>\n",
       "      <td>48654.428875</td>\n",
       "      <td>0.298862</td>\n",
       "      <td>9.740000</td>\n",
       "    </tr>\n",
       "    <tr>\n",
       "      <th>std</th>\n",
       "      <td>16.187629</td>\n",
       "      <td>53662.723741</td>\n",
       "      <td>168.881211</td>\n",
       "      <td>0.197103</td>\n",
       "      <td>1.946935</td>\n",
       "      <td>0.366973</td>\n",
       "      <td>29395.537273</td>\n",
       "      <td>0.094521</td>\n",
       "      <td>5.923054</td>\n",
       "    </tr>\n",
       "    <tr>\n",
       "      <th>min</th>\n",
       "      <td>18.000000</td>\n",
       "      <td>15404.000000</td>\n",
       "      <td>301.000000</td>\n",
       "      <td>0.050000</td>\n",
       "      <td>0.000000</td>\n",
       "      <td>0.000000</td>\n",
       "      <td>612.000000</td>\n",
       "      <td>0.100000</td>\n",
       "      <td>0.000000</td>\n",
       "    </tr>\n",
       "    <tr>\n",
       "      <th>25%</th>\n",
       "      <td>33.000000</td>\n",
       "      <td>62295.000000</td>\n",
       "      <td>418.250000</td>\n",
       "      <td>0.356486</td>\n",
       "      <td>1.000000</td>\n",
       "      <td>0.000000</td>\n",
       "      <td>23716.500000</td>\n",
       "      <td>0.233639</td>\n",
       "      <td>5.000000</td>\n",
       "    </tr>\n",
       "    <tr>\n",
       "      <th>50%</th>\n",
       "      <td>46.500000</td>\n",
       "      <td>107658.000000</td>\n",
       "      <td>586.000000</td>\n",
       "      <td>0.485636</td>\n",
       "      <td>3.000000</td>\n",
       "      <td>0.000000</td>\n",
       "      <td>45776.000000</td>\n",
       "      <td>0.301634</td>\n",
       "      <td>10.000000</td>\n",
       "    </tr>\n",
       "    <tr>\n",
       "      <th>75%</th>\n",
       "      <td>59.250000</td>\n",
       "      <td>155734.000000</td>\n",
       "      <td>727.250000</td>\n",
       "      <td>0.634440</td>\n",
       "      <td>5.000000</td>\n",
       "      <td>0.000000</td>\n",
       "      <td>75546.500000</td>\n",
       "      <td>0.362737</td>\n",
       "      <td>15.000000</td>\n",
       "    </tr>\n",
       "    <tr>\n",
       "      <th>max</th>\n",
       "      <td>74.000000</td>\n",
       "      <td>199943.000000</td>\n",
       "      <td>847.000000</td>\n",
       "      <td>1.025843</td>\n",
       "      <td>6.000000</td>\n",
       "      <td>1.000000</td>\n",
       "      <td>99620.000000</td>\n",
       "      <td>0.552956</td>\n",
       "      <td>19.000000</td>\n",
       "    </tr>\n",
       "  </tbody>\n",
       "</table>\n",
       "</div>"
      ],
      "text/plain": [
       "              Age         Income  Credit_Score  Credit_Utilization  \\\n",
       "count  500.000000     461.000000    498.000000          500.000000   \n",
       "mean    46.266000  108379.893709    577.716867            0.491446   \n",
       "std     16.187629   53662.723741    168.881211            0.197103   \n",
       "min     18.000000   15404.000000    301.000000            0.050000   \n",
       "25%     33.000000   62295.000000    418.250000            0.356486   \n",
       "50%     46.500000  107658.000000    586.000000            0.485636   \n",
       "75%     59.250000  155734.000000    727.250000            0.634440   \n",
       "max     74.000000  199943.000000    847.000000            1.025843   \n",
       "\n",
       "       Missed_Payments  Delinquent_Account  Loan_Balance  \\\n",
       "count       500.000000          500.000000    471.000000   \n",
       "mean          2.968000            0.160000  48654.428875   \n",
       "std           1.946935            0.366973  29395.537273   \n",
       "min           0.000000            0.000000    612.000000   \n",
       "25%           1.000000            0.000000  23716.500000   \n",
       "50%           3.000000            0.000000  45776.000000   \n",
       "75%           5.000000            0.000000  75546.500000   \n",
       "max           6.000000            1.000000  99620.000000   \n",
       "\n",
       "       Debt_to_Income_Ratio  Account_Tenure  \n",
       "count            500.000000      500.000000  \n",
       "mean               0.298862        9.740000  \n",
       "std                0.094521        5.923054  \n",
       "min                0.100000        0.000000  \n",
       "25%                0.233639        5.000000  \n",
       "50%                0.301634       10.000000  \n",
       "75%                0.362737       15.000000  \n",
       "max                0.552956       19.000000  "
      ]
     },
     "execution_count": 5,
     "metadata": {},
     "output_type": "execute_result"
    }
   ],
   "source": [
    "df.describe()"
   ]
  },
  {
   "cell_type": "code",
   "execution_count": 6,
   "id": "959eca6a-436e-4bcd-b4f3-43140fbacc59",
   "metadata": {
    "scrolled": true
   },
   "outputs": [
    {
     "data": {
      "text/plain": [
       "Customer_ID              0\n",
       "Age                      0\n",
       "Income                  39\n",
       "Credit_Score             2\n",
       "Credit_Utilization       0\n",
       "Missed_Payments          0\n",
       "Delinquent_Account       0\n",
       "Loan_Balance            29\n",
       "Debt_to_Income_Ratio     0\n",
       "Employment_Status        0\n",
       "Account_Tenure           0\n",
       "Credit_Card_Type         0\n",
       "Location                 0\n",
       "Month_1                  0\n",
       "Month_2                  0\n",
       "Month_3                  0\n",
       "Month_4                  0\n",
       "Month_5                  0\n",
       "Month_6                  0\n",
       "dtype: int64"
      ]
     },
     "execution_count": 6,
     "metadata": {},
     "output_type": "execute_result"
    }
   ],
   "source": [
    "df.isnull().sum()"
   ]
  },
  {
   "cell_type": "code",
   "execution_count": 7,
   "id": "8b587ab5-3691-49a8-9c79-f64d53930611",
   "metadata": {},
   "outputs": [
    {
     "data": {
      "text/html": [
       "<div>\n",
       "<style scoped>\n",
       "    .dataframe tbody tr th:only-of-type {\n",
       "        vertical-align: middle;\n",
       "    }\n",
       "\n",
       "    .dataframe tbody tr th {\n",
       "        vertical-align: top;\n",
       "    }\n",
       "\n",
       "    .dataframe thead th {\n",
       "        text-align: right;\n",
       "    }\n",
       "</style>\n",
       "<table border=\"1\" class=\"dataframe\">\n",
       "  <thead>\n",
       "    <tr style=\"text-align: right;\">\n",
       "      <th></th>\n",
       "      <th>Income</th>\n",
       "      <th>Debt_to_Income_Ratio</th>\n",
       "      <th>Missed_Payments</th>\n",
       "    </tr>\n",
       "  </thead>\n",
       "  <tbody>\n",
       "    <tr>\n",
       "      <th>115</th>\n",
       "      <td>121884.0</td>\n",
       "      <td>0.309286</td>\n",
       "      <td>4</td>\n",
       "    </tr>\n",
       "    <tr>\n",
       "      <th>378</th>\n",
       "      <td>NaN</td>\n",
       "      <td>0.324590</td>\n",
       "      <td>6</td>\n",
       "    </tr>\n",
       "  </tbody>\n",
       "</table>\n",
       "</div>"
      ],
      "text/plain": [
       "       Income  Debt_to_Income_Ratio  Missed_Payments\n",
       "115  121884.0              0.309286                4\n",
       "378       NaN              0.324590                6"
      ]
     },
     "execution_count": 7,
     "metadata": {},
     "output_type": "execute_result"
    }
   ],
   "source": [
    "df[df['Credit_Score'].isnull()][['Income','Debt_to_Income_Ratio','Missed_Payments']]"
   ]
  },
  {
   "cell_type": "code",
   "execution_count": 8,
   "id": "d2d6479f-fd59-4be8-9d72-b1d2ea09b5a8",
   "metadata": {},
   "outputs": [],
   "source": [
    "df['Credit_Score'] = df.groupby(['Employment_Status',\n",
    "                                 'Credit_Card_Type'])['Credit_Score']\\\n",
    "                        .transform(lambda x: x.fillna(x.median()))"
   ]
  },
  {
   "cell_type": "code",
   "execution_count": 9,
   "id": "1dea96a8-d34f-456f-ae72-55ab83a02f51",
   "metadata": {},
   "outputs": [],
   "source": [
    "df['Income'] = df.groupby('Employment_Status')['Income'].transform(lambda x: x.fillna(x.median()))"
   ]
  },
  {
   "cell_type": "code",
   "execution_count": 10,
   "id": "8c23d5dd-b848-4b65-bc33-957d08778386",
   "metadata": {},
   "outputs": [],
   "source": [
    "df['Loan_Balance'] = df.groupby('Account_Tenure')['Loan_Balance'].transform(lambda x: x.fillna(x.median()))"
   ]
  },
  {
   "cell_type": "code",
   "execution_count": 11,
   "id": "7706cce7-0e13-486b-9f7c-d3531975646d",
   "metadata": {
    "scrolled": true
   },
   "outputs": [
    {
     "data": {
      "text/plain": [
       "Customer_ID             0\n",
       "Age                     0\n",
       "Income                  0\n",
       "Credit_Score            0\n",
       "Credit_Utilization      0\n",
       "Missed_Payments         0\n",
       "Delinquent_Account      0\n",
       "Loan_Balance            0\n",
       "Debt_to_Income_Ratio    0\n",
       "Employment_Status       0\n",
       "Account_Tenure          0\n",
       "Credit_Card_Type        0\n",
       "Location                0\n",
       "Month_1                 0\n",
       "Month_2                 0\n",
       "Month_3                 0\n",
       "Month_4                 0\n",
       "Month_5                 0\n",
       "Month_6                 0\n",
       "dtype: int64"
      ]
     },
     "execution_count": 11,
     "metadata": {},
     "output_type": "execute_result"
    }
   ],
   "source": [
    "df.isnull().sum()"
   ]
  },
  {
   "cell_type": "code",
   "execution_count": 12,
   "id": "025f1d3b-9889-419a-8515-363a50aa5e10",
   "metadata": {},
   "outputs": [],
   "source": [
    "import seaborn as sns\n",
    "import matplotlib.pyplot as plt"
   ]
  },
  {
   "cell_type": "code",
   "execution_count": 13,
   "id": "f4d4e057-b004-4244-a2a9-fa42777960d4",
   "metadata": {},
   "outputs": [],
   "source": [
    "corr = df.corr(numeric_only=True)"
   ]
  },
  {
   "cell_type": "code",
   "execution_count": 14,
   "id": "2ed43504-99c5-4f50-87e9-10a840425c7c",
   "metadata": {},
   "outputs": [
    {
     "name": "stdout",
     "output_type": "stream",
     "text": [
      "Delinquent_Account      1.000000\n",
      "Income                  0.044229\n",
      "Credit_Score            0.035084\n",
      "Debt_to_Income_Ratio    0.034386\n",
      "Credit_Utilization      0.034224\n",
      "Age                     0.022508\n",
      "Loan_Balance           -0.005855\n",
      "Missed_Payments        -0.026478\n",
      "Account_Tenure         -0.039829\n",
      "Name: Delinquent_Account, dtype: float64\n"
     ]
    }
   ],
   "source": [
    "target_corr = corr['Delinquent_Account'].sort_values(ascending=False)\n",
    "print(target_corr)"
   ]
  },
  {
   "cell_type": "code",
   "execution_count": 15,
   "id": "22ab648a-8e0b-4935-ba03-ebd267f5db5f",
   "metadata": {},
   "outputs": [
    {
     "data": {
      "text/plain": [
       "Text(0.5, 1.0, 'Correlation Matrix')"
      ]
     },
     "execution_count": 15,
     "metadata": {},
     "output_type": "execute_result"
    },
    {
     "data": {
      "image/png": "[encoded data removed]",
      "text/plain": [
       "<Figure size 800x500 with 2 Axes>"
      ]
     },
     "metadata": {},
     "output_type": "display_data"
    }
   ],
   "source": [
    "plt.figure(figsize=(8,5))\n",
    "sns.heatmap(corr, annot=True, cmap='coolwarm', fmt=\".2f\")\n",
    "plt.title(\"Correlation Matrix\")"
   ]
  },
  {
   "cell_type": "code",
   "execution_count": 16,
   "id": "2b3ec15d-0839-4664-a9e3-47b34900c303",
   "metadata": {},
   "outputs": [
    {
     "name": "stdout",
     "output_type": "stream",
     "text": [
      "\n",
      "Delinquency Rate by Employment_Status:\n",
      "Employment_Status\n",
      "Unemployed       0.193548\n",
      "Employed         0.182927\n",
      "Self-employed    0.162500\n",
      "employed         0.155844\n",
      "EMP              0.148148\n",
      "retired          0.114943\n",
      "Name: Delinquent_Account, dtype: float64\n",
      "\n",
      "Delinquency Rate by Credit_Card_Type:\n",
      "Credit_Card_Type\n",
      "Business    0.212963\n",
      "Student     0.178571\n",
      "Gold        0.144068\n",
      "Standard    0.127907\n",
      "Platinum    0.118421\n",
      "Name: Delinquent_Account, dtype: float64\n",
      "\n",
      "Delinquency Rate by Location:\n",
      "Location\n",
      "Los Angeles    0.196262\n",
      "Houston        0.168421\n",
      "Phoenix        0.165049\n",
      "Chicago        0.145631\n",
      "New York       0.119565\n",
      "Name: Delinquent_Account, dtype: float64\n"
     ]
    }
   ],
   "source": [
    "cat_features = ['Employment_Status', 'Credit_Card_Type', 'Location']\n",
    "\n",
    "for col in cat_features:\n",
    "    delinquency_rate = df.groupby(col)['Delinquent_Account'].mean().sort_values(ascending=False)\n",
    "    print(f\"\\nDelinquency Rate by {col}:\\n{delinquency_rate}\")"
   ]
  },
  {
   "cell_type": "code",
   "execution_count": null,
   "id": "5f31318e-d9e6-46b9-8acf-3e5e3843baa6",
   "metadata": {},
   "outputs": [],
   "source": []
  }
 ],
 "metadata": {
  "kernelspec": {
   "display_name": "Python [conda env:base] *",
   "language": "python",
   "name": "conda-base-py"
  },
  "language_info": {
   "codemirror_mode": {
    "name": "ipython",
    "version": 3
   },
   "file_extension": ".py",
   "mimetype": "text/x-python",
   "name": "python",
   "nbconvert_exporter": "python",
   "pygments_lexer": "ipython3",
   "version": "3.13.5"
  }
 },
 "nbformat": 4,
 "nbformat_minor": 5
}
